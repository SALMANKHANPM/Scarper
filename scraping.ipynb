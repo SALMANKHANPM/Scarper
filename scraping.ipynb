{
 "cells": [
  {
   "cell_type": "code",
   "execution_count": 3,
   "id": "7ba6f33f-6754-4774-a14e-d4ec128de8ae",
   "metadata": {},
   "outputs": [],
   "source": [
    "from selenium.webdriver.chrome.service import Service\n",
    "from selenium.webdriver.chrome.options import Options\n",
    "from selenium import webdriver\n",
    "from bs4 import BeautifulSoup\n",
    "import time\n",
    "import csv"
   ]
  },
  {
   "cell_type": "code",
   "execution_count": 7,
   "id": "cfbe6c52-b856-48e9-8cd9-4486e48f21ad",
   "metadata": {},
   "outputs": [
    {
     "name": "stdout",
     "output_type": "stream",
     "text": [
      "<class 'bs4.BeautifulSoup'> <class 'str'>\n"
     ]
    }
   ],
   "source": [
    "name = 'SRM'\n",
    "\n",
    "# URL of the webpage to scrape\n",
    "url = 'https://collegedunia.com/university/25896-srm-institute-of-science-and-technology-srmist-chennai'\n",
    "\n",
    "# Configure Selenium options (headless browser, if desired)\n",
    "options = Options()\n",
    "options.headless = True  # Set to False if you want to see the browser interaction\n",
    "\n",
    "# Specify the path to chromedriver.exe\n",
    "driver_path = 'chromedriver.exe'  # Update with your actual path to chromedriver\n",
    "\n",
    "# Initialize the WebDriver with Chrome\n",
    "service = Service(driver_path)\n",
    "driver = webdriver.Chrome(service=service, options=options)\n",
    "\n",
    "# Load the webpage\n",
    "driver.get(url)\n",
    "\n",
    "# Wait for the page to fully render (adjust wait time as needed)\n",
    "time.sleep(5)  # Example: Wait for 5 seconds (you can use more sophisticated waits)\n",
    "\n",
    "# Extract the page content after rendering\n",
    "page_source = driver.page_source\n",
    "\n",
    "# Parse the HTML content using BeautifulSoup\n",
    "soup = BeautifulSoup(page_source, 'html.parser')\n",
    "print(type(soup), type(page_source))\n",
    "\n",
    "with open(f\"{name}.html\", \"w\", encoding=\"utf-8\") as file:\n",
    "    file.write(str(soup))\n",
    "\n",
    "'''\n",
    "# Your BeautifulSoup parsing code goes here\n",
    "res = soup.find_all('h4')\n",
    "# print(res)\n",
    "papers = soup.find_all('li', class_='note')\n",
    "\n",
    "for paper in papers:\n",
    "    print(paper.prettify())  # Print the HTML structure of each paper element\n",
    "'''\n",
    "\n",
    "# Close the WebDriver session\n",
    "driver.quit()\n",
    "\n"
   ]
  },
  {
   "cell_type": "code",
   "execution_count": null,
   "id": "7e31a8a4-fd53-47e4-8e3f-6ace2fadb0e7",
   "metadata": {},
   "outputs": [],
   "source": []
  },
  {
   "cell_type": "code",
   "execution_count": null,
   "id": "60b28b81-24ea-4799-adbe-185b89284b2b",
   "metadata": {},
   "outputs": [],
   "source": []
  }
 ],
 "metadata": {
  "kernelspec": {
   "display_name": "Python 3 (ipykernel)",
   "language": "python",
   "name": "python3"
  },
  "language_info": {
   "codemirror_mode": {
    "name": "ipython",
    "version": 3
   },
   "file_extension": ".py",
   "mimetype": "text/x-python",
   "name": "python",
   "nbconvert_exporter": "python",
   "pygments_lexer": "ipython3",
   "version": "3.11.4"
  }
 },
 "nbformat": 4,
 "nbformat_minor": 5
}
